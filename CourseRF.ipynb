{
 "cells": [
  {
   "cell_type": "code",
   "execution_count": 1,
   "id": "91964083",
   "metadata": {},
   "outputs": [
    {
     "name": "stdout",
     "output_type": "stream",
     "text": [
      "Requirement already satisfied: mysql-connector-python in c:\\anaconda\\lib\\site-packages (8.0.26)\n",
      "Requirement already satisfied: protobuf>=3.0.0 in c:\\anaconda\\lib\\site-packages (from mysql-connector-python) (3.17.3)\n",
      "Requirement already satisfied: six>=1.9 in c:\\anaconda\\lib\\site-packages (from protobuf>=3.0.0->mysql-connector-python) (1.15.0)\n",
      "Note: you may need to restart the kernel to use updated packages.\n"
     ]
    }
   ],
   "source": [
    "pip install mysql-connector-python"
   ]
  },
  {
   "cell_type": "code",
   "execution_count": 2,
   "id": "201dbe97",
   "metadata": {},
   "outputs": [],
   "source": [
    "from tkinter import *"
   ]
  },
  {
   "cell_type": "code",
   "execution_count": 3,
   "id": "5456fc97",
   "metadata": {},
   "outputs": [],
   "source": [
    "from tkinter import messagebox"
   ]
  },
  {
   "cell_type": "code",
   "execution_count": 4,
   "id": "14c57038",
   "metadata": {},
   "outputs": [],
   "source": [
    "import mysql.connector"
   ]
  },
  {
   "cell_type": "code",
   "execution_count": 5,
   "id": "2b4773dc",
   "metadata": {},
   "outputs": [],
   "source": [
    "import time"
   ]
  },
  {
   "cell_type": "code",
   "execution_count": 6,
   "id": "61f4d22a",
   "metadata": {},
   "outputs": [],
   "source": [
    "from functools import partial"
   ]
  },
  {
   "cell_type": "code",
   "execution_count": null,
   "id": "9ce473fc",
   "metadata": {},
   "outputs": [],
   "source": [
    "# connecting to the database\n",
    "db = mysql.connector.connect(host=\"localhost\", user=\"root\", passwd=\"nehadatabase\", database=\"Course\")\n",
    "mycur = db.cursor()\n",
    "\n",
    "\n",
    "def error_destroy():\n",
    "    err.destroy()\n",
    "\n",
    "\n",
    "def succ_destroy():\n",
    "    succ.destroy()\n",
    "    root1.destroy()\n",
    "\n",
    "\n",
    "def error():\n",
    "    global err\n",
    "    err = Toplevel(root1)\n",
    "    err.title(\"Error\")\n",
    "    err.geometry(\"200x100\")\n",
    "    Label(err, text=\"All fields are required..\", fg=\"red\", font=\"bold\").pack()\n",
    "    Label(err, text=\"\").pack()\n",
    "    Button(err, text=\"Ok\", bg=\"grey\", width=8, height=1, command=error_destroy).pack()\n",
    "\n",
    "\n",
    "def success():\n",
    "    global succ\n",
    "    succ = Toplevel(root1)\n",
    "    succ.title(\"Success\")\n",
    "    succ.geometry(\"200x100\")\n",
    "    Label(succ, text=\"Registration successful...\", fg=\"green\", font=\"bold\").pack()\n",
    "    Label(succ, text=\"\").pack()\n",
    "    Button(succ, text=\"Ok\", bg=\"grey\", width=8, height=1, command=succ_destroy).pack()\n",
    "\n",
    "\n",
    "def register_user():\n",
    "    username_info = username.get()\n",
    "    course_name = coursename.get()\n",
    "    course_type = coursetype.get()\n",
    "    course_duration = courseduration.get()\n",
    "    password_info = password.get()\n",
    "    if username_info == \"\":\n",
    "        error()\n",
    "    elif password_info == \"\":\n",
    "        error()\n",
    "    elif course_name == \"\":\n",
    "        error()\n",
    "    elif course_type == \"\":\n",
    "        error()\n",
    "    elif course_duration == \"\":\n",
    "        error()\n",
    "\n",
    "    else:\n",
    "        sql = \"insert into login values(%s,%s,%s,%s,%s)\"\n",
    "        t = (username_info, password_info, course_name, course_type, course_duration)\n",
    "        mycur.execute(sql, t)\n",
    "        db.commit()\n",
    "        Label(root1, text=\"\").pack()\n",
    "        time.sleep(0.50)\n",
    "        success()\n",
    "\n",
    "\n",
    "def registration():\n",
    "    global root1\n",
    "    root1 = Toplevel(root)\n",
    "    root1.title(\"Registration Portal\")\n",
    "    root1.geometry(\"500x500\")\n",
    "    global username\n",
    "    global coursename\n",
    "    global coursetype\n",
    "    global courseduration\n",
    "    global password\n",
    "    Label(root1, text=\"Register your account\", bg=\"grey\", fg=\"black\", font=\"bold\", width=300).pack()\n",
    "    username = StringVar()\n",
    "    password = StringVar()\n",
    "    coursename = StringVar()\n",
    "    coursetype = StringVar()\n",
    "    courseduration = StringVar()\n",
    "    Label(root1, text=\"\").pack()\n",
    "    Label(root1, text=\"Username :\", font=\"bold\").pack()\n",
    "    Entry(root1, textvariable=username).pack()\n",
    "    Label(root1, text=\"\").pack()\n",
    "    Label(root1, text=\"Password :\", font=\"bold\").pack()\n",
    "    Entry(root1, textvariable=password, show=\"*\").pack()\n",
    "    Label(root1, text=\"\").pack()\n",
    "    Label(root1, text=\"Course Name :\", font=\"bold\").pack()\n",
    "    Entry(root1, textvariable=coursename).pack()\n",
    "    Label(root1, text=\"\").pack()\n",
    "    Label(root1, text=\"Course Type :\", font=\"bold\").pack()\n",
    "    Entry(root1, textvariable=coursetype).pack()\n",
    "    Label(root1, text=\"\").pack()\n",
    "    Label(root1, text=\"Course Duration :\", font=\"bold\").pack()\n",
    "    Entry(root1, textvariable=courseduration).pack()\n",
    "\n",
    "    Label(root1, text=\"\").pack()\n",
    "    Button(root1, text=\"Register\", bg=\"white\", command=register_user).pack()\n",
    "\n",
    "\n",
    "def main_screen():\n",
    "    global root\n",
    "    root = Tk()\n",
    "    root.title(\"Registration Portal\")\n",
    "    root.geometry(\"400x400\")\n",
    "    Label(root, text=\"Welcome to Computer Course Registration Portal\", font=\"bold\", bg=\"Red\", fg=\"black\",\n",
    "          width=300).pack()\n",
    "    Label(root, text=\"\").pack()\n",
    "    Button(root, text=\"Registration\", height=\"1\", width=\"15\", bg=\"white\", font=\"bold\", command=registration).pack()\n",
    "    Label(root, text=\"\").pack()\n",
    "\n",
    "\n",
    "main_screen()\n",
    "root.mainloop()"
   ]
  },
  {
   "cell_type": "code",
   "execution_count": null,
   "id": "ad7d03b1",
   "metadata": {},
   "outputs": [],
   "source": []
  }
 ],
 "metadata": {
  "kernelspec": {
   "display_name": "Python 3",
   "language": "python",
   "name": "python3"
  },
  "language_info": {
   "codemirror_mode": {
    "name": "ipython",
    "version": 3
   },
   "file_extension": ".py",
   "mimetype": "text/x-python",
   "name": "python",
   "nbconvert_exporter": "python",
   "pygments_lexer": "ipython3",
   "version": "3.8.8"
  }
 },
 "nbformat": 4,
 "nbformat_minor": 5
}
